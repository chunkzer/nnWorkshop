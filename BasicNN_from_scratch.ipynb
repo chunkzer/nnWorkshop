{
 "cells": [
  {
   "cell_type": "code",
   "execution_count": null,
   "metadata": {
    "collapsed": true
   },
   "outputs": [],
   "source": [
    "import numpy as np\n",
    "\n",
    "# Nuestras funciones de activación.\n",
    "###TODO\n",
    "def sigmoid()\n",
    "\n",
    "def sigmoidDeriv()\n",
    "\n",
    "#Datos de entrada.\n",
    "X = np.array([[0,0,1], [0,1,1], [1,0,1], [1,1,1]])\n",
    "\n",
    "# Nuestra salida objetivo.\n",
    "y = np.array([[0],[1],[1],[0]])\n",
    "\n",
    "\n",
    "\n",
    "#Parametros \n",
    "epochs = # 1 epoch = 1 fwd pass / 1 bwd pass con todos los datos\n",
    "np.random.seed(1)\n",
    "\n",
    "#Inicializando los pesos entre las capas.\n",
    "\n",
    "Wxh =\n",
    "Why = \n",
    "\n"
   ]
  },
  {
   "cell_type": "code",
   "execution_count": null,
   "metadata": {
    "collapsed": true
   },
   "outputs": [],
   "source": [
    "#Ciclo de entrenamiento \n",
    "def training(X, Y, Wxh, Why, epoch)\n",
    "for j in xrange(epoch):\n",
    "    l0 =  # Input layer \n",
    "    l1 =  # Hidden layer \n",
    "    l2 =  # Output layer\n",
    "    \n",
    "    Costo =  \n",
    "\n",
    "    if(j % 10000) == 0:\n",
    "        print \"Error:\" + str(np.mean(np.abs(Costo)))\n",
    "\n",
    "    l2_delta = \n",
    "    l1_error = \n",
    "    l1_delta = \n",
    "\n",
    "    Why += \n",
    "    Wxh += \n",
    "\n",
    "    print \"Output after training.\"\n",
    "    print l2"
   ]
  },
  {
   "cell_type": "code",
   "execution_count": null,
   "metadata": {
    "collapsed": true
   },
   "outputs": [],
   "source": [
    "training(X, Y, Wxh, Why, epochs)"
   ]
  }
 ],
 "metadata": {
  "kernelspec": {
   "display_name": "Python 2",
   "language": "python",
   "name": "python2"
  },
  "language_info": {
   "codemirror_mode": {
    "name": "ipython",
    "version": 2
   },
   "file_extension": ".py",
   "mimetype": "text/x-python",
   "name": "python",
   "nbconvert_exporter": "python",
   "pygments_lexer": "ipython2",
   "version": "2.7.10"
  }
 },
 "nbformat": 4,
 "nbformat_minor": 0
}
