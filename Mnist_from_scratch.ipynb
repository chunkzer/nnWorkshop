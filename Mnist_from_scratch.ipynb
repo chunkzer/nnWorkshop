{
 "cells": [
  {
   "cell_type": "code",
   "execution_count": null,
   "metadata": {
    "collapsed": true
   },
   "outputs": [],
   "source": [
    "## Este primer bloque solo carga los datos que necesitamos para el entrenamiento.\n",
    "import numpy as np\n",
    "import os, struct, array\n",
    "import matplotlib.pyplot as plt\n",
    "from IPython.display import Image \n",
    "\n",
    "def load_mnist(dataset='training', path='.', digits=np.arange(10)):\n",
    "    if dataset == \"training\":\n",
    "        fname_img = os.path.join(path, 'train-images-idx3-ubyte')\n",
    "        fname_lbl = os.path.join(path, 'train-labels-idx1-ubyte')\n",
    "    elif dataset == \"testing\":\n",
    "        fname_img = os.path.join(path, 't10k-images-idx3-ubyte')\n",
    "        fname_lbl = os.path.join(path, 't10k-labels-idx1-ubyte')\n",
    "    else:\n",
    "        raise ValueError(\"dataset must be 'testing' or 'training'\")\n",
    "\n",
    "    flbl = open(fname_lbl, 'rb')\n",
    "    magic_nr, size = struct.unpack(\">II\", flbl.read(8))\n",
    "    lbl = array.array(\"b\", flbl.read())\n",
    "    flbl.close()\n",
    "\n",
    "    fimg = open(fname_img, 'rb')\n",
    "    magic_nr, size, rows, cols = struct.unpack(\">IIII\", fimg.read(16))\n",
    "    img = array.array(\"B\", fimg.read())\n",
    "    fimg.close()\n",
    "\n",
    "    ind = [k for k in range(size) if lbl[k] in digits]\n",
    "    N = len(ind)\n",
    "\n",
    "    images = np.zeros((N, rows, cols), dtype=np.uint8)\n",
    "    labels = np.zeros((N, 1), dtype=np.int8)\n",
    "    for i in range(len(ind)):\n",
    "        images[i] = np.array(img[ind[i] * rows * cols: (ind[i] + 1) * rows * cols]).reshape((rows, cols))\n",
    "        labels[i] = lbl[ind[i]]\n",
    "\n",
    "    return images, labels\n",
    "\n",
    "# read the data\n",
    "images, labels = load_mnist(\"training\", path='data/mnist/')"
   ]
  },
  {
   "cell_type": "code",
   "execution_count": null,
   "metadata": {
    "collapsed": true
   },
   "outputs": [],
   "source": [
    "# Conozcamos a nuestro data set:\n",
    "X = np.array(images)\n",
    "indice = np.random.randint(0, X.shape[0])\n",
    "\n",
    "print \"Los datos de entrada constant de \" + `X.shape[0]` + \" imagenes de \" + `X.shape[1]` + \" x \" + `X.shape[2]` + \" pixeles.\"\n",
    "\n",
    "plt.imshow(X[indice], cmap=plt.gray())\n",
    "plt.axis('on')\n",
    "plt.title(u\"Una imagen en particular de nuestro dataset.\")\n",
    "plt.show()"
   ]
  },
  {
   "cell_type": "code",
   "execution_count": 1,
   "metadata": {
    "collapsed": true
   },
   "outputs": [],
   "source": [
    "# Nuestras funciones de activación.\n",
    "def sigmoid(x):\n",
    "    return 1/(1 + np.exp(-x))\n",
    "\n",
    "def sigmoidDeriv(x):\n",
    "    return x*(1-x)\n",
    "\n",
    "#Datos de entrada.\n",
    "X = np.array(images)\n",
    "\n",
    "\n",
    "# Nuestra salida objetivo.\n",
    "Y = np.array(labels)\n",
    "\n",
    "\n",
    "#Parametros\n",
    "batch_size = \n",
    "hidden_cells = \n",
    "learning_rate = \n",
    "epochs = # 1 epoch = 1 fwd pass / 1 bwd pass con todos los datos\n",
    "np.random.seed(1)\n",
    "\n",
    "#Inicializando los pesos entre las capas.\n",
    "\n",
    "Wxh = 2*np.random.random((3,4)) - 1\n",
    "Why = 2*np.random.random((4,1)) - 1\n",
    "\n"
   ]
  },
  {
   "cell_type": "code",
   "execution_count": null,
   "metadata": {
    "collapsed": true
   },
   "outputs": [],
   "source": [
    "#Ciclo de entrenamiento \n",
    "\n",
    "for j in xrange(epochs):\n",
    "    l0 = X \n",
    "    l1 = sigmoid(np.dot(l0, Wxh)) \n",
    "    l2 = sigmoid(np.dot(l1, Why))\n",
    "    \n",
    "    Costo = y - l2 \n",
    "\n",
    "    if(j % 10000) == 0:\n",
    "        print \"Error:\" + str(np.mean(np.abs(l2_error)))\n",
    "\n",
    "    l2_delta = l2_error * sigmoidDeriv(l2)\n",
    "    l1_error = l2_delta.dot(Why.T)\n",
    "    l1_delta = l1_error * sigmoidDeriv(l1)\n",
    "\n",
    "    Why += 0.2 * l1.T.dot(l2_delta)\n",
    "    Wxh += 0.2 * l0.T.dot(l1_delta)\n",
    "\n",
    "print \"Output after training.\"\n",
    "print l2"
   ]
  }
 ],
 "metadata": {
  "kernelspec": {
   "display_name": "Python 2",
   "language": "python",
   "name": "python2"
  },
  "language_info": {
   "codemirror_mode": {
    "name": "ipython",
    "version": 2
   },
   "file_extension": ".py",
   "mimetype": "text/x-python",
   "name": "python",
   "nbconvert_exporter": "python",
   "pygments_lexer": "ipython2",
   "version": "2.7.10"
  }
 },
 "nbformat": 4,
 "nbformat_minor": 0
}
