{
 "cells": [
  {
   "cell_type": "code",
   "execution_count": 9,
   "metadata": {
    "collapsed": true
   },
   "outputs": [],
   "source": [
    "## Este primer bloque solo carga los datos que necesitamos para el entrenamiento.\n",
    "import numpy as np\n",
    "import os, struct, array\n",
    "import matplotlib.pyplot as plt\n",
    "from IPython.display import Image\n",
    "\n",
    "\n",
    "def load_mnist(dataset='training', path='.', digits=np.arange(10)):\n",
    "    if dataset == \"training\":\n",
    "        fname_img = os.path.join(path, 'train-images-idx3-ubyte')\n",
    "        fname_lbl = os.path.join(path, 'train-labels-idx1-ubyte')\n",
    "    elif dataset == \"testing\":\n",
    "        fname_img = os.path.join(path, 't10k-images-idx3-ubyte')\n",
    "        fname_lbl = os.path.join(path, 't10k-labels-idx1-ubyte')\n",
    "    else:\n",
    "        raise ValueError(\"dataset must be 'testing' or 'training'\")\n",
    "\n",
    "    flbl = open(fname_lbl, 'rb')\n",
    "    magic_nr, size = struct.unpack(\">II\", flbl.read(8))\n",
    "    lbl = array.array(\"b\", flbl.read())\n",
    "    flbl.close()\n",
    "\n",
    "    fimg = open(fname_img, 'rb')\n",
    "    magic_nr, size, rows, cols = struct.unpack(\">IIII\", fimg.read(16))\n",
    "    img = array.array(\"B\", fimg.read())\n",
    "    fimg.close()\n",
    "\n",
    "    ind = [k for k in range(size) if lbl[k] in digits]\n",
    "    N = len(ind)\n",
    "\n",
    "    images = np.zeros((N, rows, cols), dtype=np.uint8)\n",
    "    labels = np.zeros((N, 1), dtype=np.int8)\n",
    "    for i in range(len(ind)):\n",
    "        images[i] = np.array(img[ind[i] * rows * cols: (ind[i] + 1) * rows * cols]).reshape((rows, cols))\n",
    "        labels[i] = lbl[ind[i]]\n",
    "\n",
    "    return images, labels\n"
   ]
  },
  {
   "cell_type": "code",
   "execution_count": 10,
   "metadata": {
    "collapsed": false
   },
   "outputs": [],
   "source": [
    "def training(images, labels, Wxh, Why, batch_size, learning_rate):\n",
    "    for batch in xrange(len(images) / batch_size):\n",
    "        X = []\n",
    "        Y = []\n",
    "        for i in range(batch * batch_size, (batch + 1) * batch_size):\n",
    "            # input:  Shape(batch_size, 784)\n",
    "            X.append(images[i].flatten())\n",
    "            # expected output: Shape(batch_size, 10)\n",
    "            Y.append([1] if (labels[i][0]) == 7 else [0])\n",
    "\n",
    "            # layers:\n",
    "        l0 = np.array(X)\n",
    "        l1 = sigmoid(np.dot(l0, Wxh))\n",
    "        l2 = sigmoid(np.dot(l1, Why))\n",
    "\n",
    "        cost = np.array(Y) - l2\n",
    "\n",
    "        # gradient descent\n",
    "        l2_delta = cost * derivSigmoid(l2)\n",
    "        hidden_error = l2_delta.dot(Why.T)\n",
    "        l1_delta = hidden_error * derivSigmoid(l1)\n",
    "\n",
    "        # if batch % 100 == 0:\n",
    "        # print \"Error:\" + str(np.mean(np.abs(cost)))\n",
    "\n",
    "        # weight adjustment\n",
    "        Why += learning_rate * l1.T.dot(l2_delta)\n",
    "        Wxh += learning_rate * l0.T.dot(l1_delta)\n",
    "\n",
    "    # add the testing dataset for validation and calculate error.\n",
    "    print \"Finished.\"\n",
    "    return Wxh, Why\n"
   ]
  },
  {
   "cell_type": "code",
   "execution_count": 11,
   "metadata": {
    "collapsed": false
   },
   "outputs": [],
   "source": [
    "def validate(imagesT, labelsT, Wxh, Why, batch_size):\n",
    "    total7 = totalNon7 = correct7 = falsePositive = 0\n",
    "    for batch in xrange(len(imagesT) / batch_size):\n",
    "        X = []\n",
    "        Y = []\n",
    "        for i in range(batch * batch_size, (batch + 1) * batch_size):\n",
    "            # input:  Shape(batch_size, 784)\n",
    "            X.append(imagesT[i].flatten())\n",
    "            # expected output: Shape(batch_size, 10)\n",
    "            Y.append([1] if (labelsT[i][0]) == 7 else [0])\n",
    "\n",
    "        l0 = np.array(X)\n",
    "        l1 = sigmoid(np.dot(l0, Wxh))\n",
    "        l2 = sigmoid(np.dot(l1, Why))\n",
    "        Y = np.array(Y)\n",
    "\n",
    "        for i in range(len(l2)):\n",
    "            if l2[i] > 0.5:\n",
    "                l2[i] = 1\n",
    "            else:\n",
    "                l2[i] = 0\n",
    "\n",
    "        total7 += collections.Counter(Y.flatten())[1]\n",
    "        totalNon7 += collections.Counter(Y.flatten())[0]\n",
    "        correct7 += collections.Counter(Y.flatten() + l2.flatten())[2]\n",
    "        falsePositive += collections.Counter(Y.flatten() - l2.flatten())[-1]\n",
    "\n",
    "    print \"Correct Lucky7: \" + `correct7`\n",
    "    print \"Guessed 7, but was wrong: \" + `falsePositive`\n",
    "    print \"Total 7s: \" + `total7`\n",
    "    print \"Total NonSevens: \" + `totalNon7`\n",
    "    print \"Accuracy of our model: \" + `100.0 * correct7 / total7`\n"
   ]
  },
  {
   "cell_type": "code",
   "execution_count": 12,
   "metadata": {
    "collapsed": true
   },
   "outputs": [],
   "source": [
    "def validate(imagesT, labelsT, Wxh, Why, batch_size):\n",
    "    total7 = totalNon7 = correct7 = falsePositive = 0\n",
    "    for batch in xrange(len(imagesT) / batch_size):\n",
    "        X = []\n",
    "        Y = []\n",
    "        for i in range(batch * batch_size, (batch + 1) * batch_size):\n",
    "            # input:  Shape(batch_size, 784)\n",
    "            X.append(imagesT[i].flatten())\n",
    "            # expected output: Shape(batch_size, 10)\n",
    "            Y.append([1] if (labelsT[i][0]) == 7 else [0])\n",
    "\n",
    "        l0 = np.array(X)\n",
    "        l1 = sigmoid(np.dot(l0, Wxh))\n",
    "        l2 = sigmoid(np.dot(l1, Why))\n",
    "        Y = np.array(Y)\n",
    "\n",
    "        for i in range(len(l2)):\n",
    "            if l2[i] > 0.5:\n",
    "                l2[i] = 1\n",
    "            else:\n",
    "                l2[i] = 0\n",
    "\n",
    "        total7 += collections.Counter(Y.flatten())[1]\n",
    "        totalNon7 += collections.Counter(Y.flatten())[0]\n",
    "        correct7 += collections.Counter(Y.flatten() + l2.flatten())[2]\n",
    "        falsePositive += collections.Counter(Y.flatten() - l2.flatten())[-1]\n",
    "\n",
    "    print \"Correct Lucky7: \" + `correct7`\n",
    "    print \"Guessed 7, but was wrong: \" + `falsePositive`\n",
    "    print \"Total 7s: \" + `total7`\n",
    "    print \"Total NonSevens: \" + `totalNon7`\n",
    "    print \"Accuracy of our model: \" + `100.0 * correct7 / total7`\n"
   ]
  },
  {
   "cell_type": "code",
   "execution_count": 13,
   "metadata": {
    "collapsed": true
   },
   "outputs": [],
   "source": [
    "# Funciones de activacion / utileria\n",
    "def sigmoid(x):\n",
    "    return 1 / (1 + np.exp(-x))\n",
    "\n",
    "def derivSigmoid(x):\n",
    "    return x * (1 - x)"
   ]
  },
  {
   "cell_type": "code",
   "execution_count": 14,
   "metadata": {
    "collapsed": false
   },
   "outputs": [
    {
     "name": "stdout",
     "output_type": "stream",
     "text": [
      "Correct Lucky7: 477\n",
      "Guessed 7, but was wrong: 2504\n",
      "Total 7s: 1028\n",
      "Total NonSevens: 8972\n",
      "Accuracy of our model: 46.400778210116734\n",
      "Finished.\n",
      "Correct Lucky7: 13\n",
      "Guessed 7, but was wrong: 2\n",
      "Total 7s: 1028\n",
      "Total NonSevens: 8972\n",
      "Accuracy of our model: 1.264591439688716\n"
     ]
    },
    {
     "name": "stderr",
     "output_type": "stream",
     "text": [
      "/usr/local/lib/python2.7/site-packages/ipykernel/__main__.py:3: RuntimeWarning: overflow encountered in exp\n",
      "  app.launch_new_instance()\n"
     ]
    }
   ],
   "source": [
    "# Load Data\n",
    "images, labels = load_mnist(\"training\", path='data/mnist/')\n",
    "imagesT, labelsT = load_mnist(\"testing\", path='data/mnist/')\n",
    "\n",
    "# Parametros\n",
    "batch_size = 20\n",
    "np.random.seed(1)\n",
    "hidden_cells = 10\n",
    "learning_rate = 0.05\n",
    "\n",
    "# Inicializacion de nuestros pesos\n",
    "Wxh = 2 * np.random.random((784, hidden_cells)) - 1\n",
    "Why = 2 * np.random.random((hidden_cells, 1)) - 1\n",
    "\n",
    "# Execute program\n",
    "validate(imagesT, labelsT, Wxh, Why, batch_size)\n",
    "Wxh, Why = training(images, labels, Wxh, Why, batch_size, learning_rate)\n",
    "validate(imagesT, labelsT, Wxh, Why, batch_size)\n",
    "\n",
    "#####\n"
   ]
  },
  {
   "cell_type": "code",
   "execution_count": null,
   "metadata": {
    "collapsed": true
   },
   "outputs": [],
   "source": []
  }
 ],
 "metadata": {
  "kernelspec": {
   "display_name": "Python 2",
   "language": "python",
   "name": "python2"
  },
  "language_info": {
   "codemirror_mode": {
    "name": "ipython",
    "version": 2
   },
   "file_extension": ".py",
   "mimetype": "text/x-python",
   "name": "python",
   "nbconvert_exporter": "python",
   "pygments_lexer": "ipython2",
   "version": "2.7.10"
  }
 },
 "nbformat": 4,
 "nbformat_minor": 0
}
