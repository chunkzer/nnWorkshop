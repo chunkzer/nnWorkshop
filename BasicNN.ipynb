{
 "cells": [
  {
   "cell_type": "code",
   "execution_count": 1,
   "metadata": {
    "collapsed": true
   },
   "outputs": [],
   "source": [
    "import numpy as np\n",
    "\n",
    "\n",
    "# Nuestras funciones de activación.\n",
    "def sigmoid(x):\n",
    "    return 1/(1 + np.exp(-x))\n",
    "\n",
    "def sigmoidDeriv(x):\n",
    "    return x*(1-x)\n",
    "\n",
    "#Datos de entrada.\n",
    "X = np.array([[0,0,1], [0,1,1], [1,0,1], [1,1,1]])\n",
    "\n",
    "# Nuestra salida objetivo.\n",
    "y = np.array([[0],[1],[1],[0]])\n",
    "\n",
    "np.random.seed(1)\n",
    "\n",
    "#Inicializando los pesos entre las capas.\n",
    "\n",
    "Wxh = 2*np.random.random((3,4)) - 1\n",
    "Why = 2*np.random.random((4,1)) - 1\n"
   ]
  },
  {
   "cell_type": "code",
   "execution_count": null,
   "metadata": {
    "collapsed": true
   },
   "outputs": [],
   "source": [
    "#Ciclo de entrenamiento \n",
    "\n",
    "for j in xrange(220000):\n",
    "    l0 = X # Input layer = Input values\n",
    "    l1 = sigmoid(np.dot(l0, Wxh)) # Shape = (4, 4)\n",
    "    l2 = sigmoid(np.dot(l1, Why))\n",
    "    \n",
    "    Costo = y - l2 \n",
    "\n",
    "    if(j % 10000) == 0:\n",
    "        print \"Error:\" + str(np.mean(np.abs(l2_error)))\n",
    "\n",
    "    l2_delta = l2_error * sigmoidDeriv(l2)\n",
    "    l1_error = l2_delta.dot(Why.T)\n",
    "    l1_delta = l1_error * sigmoidDeriv(l1)\n",
    "\n",
    "    Why += 0.2 * l1.T.dot(l2_delta)\n",
    "    Wxh += 0.2 * l0.T.dot(l1_delta)\n",
    "\n",
    "print \"Output after training.\"\n",
    "print l2"
   ]
  }
 ],
 "metadata": {
  "kernelspec": {
   "display_name": "Python 2",
   "language": "python",
   "name": "python2"
  },
  "language_info": {
   "codemirror_mode": {
    "name": "ipython",
    "version": 2
   },
   "file_extension": ".py",
   "mimetype": "text/x-python",
   "name": "python",
   "nbconvert_exporter": "python",
   "pygments_lexer": "ipython2",
   "version": "2.7.10"
  }
 },
 "nbformat": 4,
 "nbformat_minor": 0
}
